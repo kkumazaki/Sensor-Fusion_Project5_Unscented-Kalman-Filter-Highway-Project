{
 "cells": [
  {
   "cell_type": "code",
   "execution_count": 52,
   "id": "463dce21",
   "metadata": {},
   "outputs": [
    {
     "ename": "ValueError",
     "evalue": "could not convert string to float: ''",
     "output_type": "error",
     "traceback": [
      "\u001b[1;31m---------------------------------------------------------------------------\u001b[0m",
      "\u001b[1;31mValueError\u001b[0m                                Traceback (most recent call last)",
      "\u001b[1;32m~\\AppData\\Local\\Temp/ipykernel_8900/3466930513.py\u001b[0m in \u001b[0;36m<module>\u001b[1;34m\u001b[0m\n\u001b[0;32m     16\u001b[0m \u001b[1;33m\u001b[0m\u001b[0m\n\u001b[0;32m     17\u001b[0m \u001b[1;32mfor\u001b[0m \u001b[0mi\u001b[0m \u001b[1;32min\u001b[0m \u001b[0mrange\u001b[0m\u001b[1;33m(\u001b[0m\u001b[0mlen\u001b[0m\u001b[1;33m(\u001b[0m\u001b[0mresult\u001b[0m\u001b[1;33m)\u001b[0m\u001b[1;33m)\u001b[0m\u001b[1;33m:\u001b[0m\u001b[1;33m\u001b[0m\u001b[1;33m\u001b[0m\u001b[0m\n\u001b[1;32m---> 18\u001b[1;33m     \u001b[0mfloat_result\u001b[0m \u001b[1;33m=\u001b[0m \u001b[0mfloat\u001b[0m\u001b[1;33m(\u001b[0m\u001b[0mresult\u001b[0m\u001b[1;33m[\u001b[0m\u001b[0mi\u001b[0m\u001b[1;33m]\u001b[0m\u001b[1;33m)\u001b[0m\u001b[1;33m\u001b[0m\u001b[1;33m\u001b[0m\u001b[0m\n\u001b[0m\u001b[0;32m     19\u001b[0m     \u001b[1;32mif\u001b[0m \u001b[1;33m(\u001b[0m\u001b[0mi\u001b[0m\u001b[1;33m%\u001b[0m\u001b[1;36m4\u001b[0m \u001b[1;33m==\u001b[0m \u001b[1;36m0\u001b[0m\u001b[1;33m)\u001b[0m\u001b[1;33m:\u001b[0m\u001b[1;33m\u001b[0m\u001b[1;33m\u001b[0m\u001b[0m\n\u001b[0;32m     20\u001b[0m         \u001b[0mrmse_x\u001b[0m\u001b[1;33m.\u001b[0m\u001b[0mappend\u001b[0m\u001b[1;33m(\u001b[0m\u001b[0mfloat_result\u001b[0m\u001b[1;33m)\u001b[0m\u001b[1;33m\u001b[0m\u001b[1;33m\u001b[0m\u001b[0m\n",
      "\u001b[1;31mValueError\u001b[0m: could not convert string to float: ''"
     ]
    }
   ],
   "source": [
    "import matplotlib.pyplot as plt\n",
    "\n",
    "f = open('result_Lidar_Radar.txt', 'r')\n",
    "\n",
    "data = f.read()\n",
    "result = data.split(\"\\n\")\n",
    "\n",
    "rmse_x = []\n",
    "step_x = []\n",
    "rmse_y = []\n",
    "step_y = []\n",
    "rmse_vx = []\n",
    "step_vx = []\n",
    "rmse_vy = []\n",
    "step_vy = []\n",
    "\n",
    "for i in range(len(result)):\n",
    "    float_result = float(result[i])\n",
    "    if (i%4 == 0):\n",
    "        rmse_x.append(float_result)\n",
    "        step_x.append(i/4)\n",
    "    elif (i%4 == 1):\n",
    "        rmse_y.append(float_result)\n",
    "        step_y.append(i/4)\n",
    "    elif (i%4 == 2):\n",
    "        rmse_vx.append(float_result)\n",
    "        step_vx.append(i/4)\n",
    "    else:\n",
    "        rmse_vy.append(float_result)\n",
    "        step_vy.append(i/4)\n",
    "\n",
    "f.close()"
   ]
  },
  {
   "cell_type": "code",
   "execution_count": 55,
   "id": "3e67f7ab",
   "metadata": {},
   "outputs": [
    {
     "name": "stderr",
     "output_type": "stream",
     "text": [
      "C:\\Users\\10322\\AppData\\Local\\Temp/ipykernel_8900/4118309719.py:33: UserWarning: Matplotlib is currently using module://matplotlib_inline.backend_inline, which is a non-GUI backend, so cannot show the figure.\n",
      "  fig.show()\n"
     ]
    },
    {
     "data": {
      "image/png": "[encoded data removed]",
      "text/plain": [
       "<Figure size 432x288 with 4 Axes>"
      ]
     },
     "metadata": {
      "needs_background": "light"
     },
     "output_type": "display_data"
    }
   ],
   "source": [
    "fig = plt.figure()\n",
    "\n",
    "# top left\n",
    "x1 = rmse_x\n",
    "ax1 = fig.add_subplot(2, 2, 1)\n",
    "ax1.plot(x1)\n",
    "ax1.set_xlabel(\"step\")\n",
    "ax1.set_ylabel(\"RMSE: x\")\n",
    "\n",
    "# top right\n",
    "x2 = rmse_y\n",
    "ax2 = fig.add_subplot(2, 2, 2)\n",
    "ax2.plot(x2)\n",
    "ax2.set_xlabel(\"step\")\n",
    "ax2.set_ylabel(\"RMSE: y\")\n",
    "\n",
    "# bottom left\n",
    "x3 = rmse_vx\n",
    "ax3 = fig.add_subplot(2, 2, 3)\n",
    "ax3.plot(x3)\n",
    "ax3.set_xlabel(\"step\")\n",
    "ax3.set_ylabel(\"RMSE: vx\")\n",
    "\n",
    "# bottom right\n",
    "x4 = rmse_vy\n",
    "ax4 = fig.add_subplot(2, 2, 4)\n",
    "ax4.plot(x4)\n",
    "ax4.set_xlabel(\"step\")\n",
    "ax4.set_ylabel(\"RMSE: vy\")\n",
    "\n",
    "# show plots\n",
    "fig.tight_layout()\n",
    "fig.show()\n",
    "\n",
    "fig.savefig(\"result.png\")"
   ]
  },
  {
   "cell_type": "code",
   "execution_count": null,
   "id": "c1eea314",
   "metadata": {},
   "outputs": [],
   "source": []
  },
  {
   "cell_type": "code",
   "execution_count": null,
   "id": "101dff75",
   "metadata": {},
   "outputs": [],
   "source": []
  }
 ],
 "metadata": {
  "kernelspec": {
   "display_name": "Python 3 (ipykernel)",
   "language": "python",
   "name": "python3"
  },
  "language_info": {
   "codemirror_mode": {
    "name": "ipython",
    "version": 3
   },
   "file_extension": ".py",
   "mimetype": "text/x-python",
   "name": "python",
   "nbconvert_exporter": "python",
   "pygments_lexer": "ipython3",
   "version": "3.9.6"
  }
 },
 "nbformat": 4,
 "nbformat_minor": 5
}
